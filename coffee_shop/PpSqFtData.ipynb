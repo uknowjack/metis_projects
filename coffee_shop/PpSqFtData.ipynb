{
 "cells": [
  {
   "cell_type": "code",
   "execution_count": 1,
   "metadata": {
    "ExecuteTime": {
     "end_time": "2019-06-13T18:43:05.265672Z",
     "start_time": "2019-06-13T18:43:03.479963Z"
    }
   },
   "outputs": [],
   "source": [
    "import pandas as pd\n",
    "import numpy as np\n",
    "import matplotlib.pyplot as plt\n",
    "from datetime import datetime as dt\n",
    "import pickle as pickle\n",
    "import seaborn as sns\n",
    "from scipy.stats import zscore"
   ]
  },
  {
   "cell_type": "code",
   "execution_count": 2,
   "metadata": {
    "ExecuteTime": {
     "end_time": "2019-06-13T18:43:05.272321Z",
     "start_time": "2019-06-13T18:43:05.268765Z"
    }
   },
   "outputs": [],
   "source": [
    "# changes it from scientific notation to regular\n",
    "pd.set_option('display.float_format', lambda x: '%.3f' % x)"
   ]
  },
  {
   "cell_type": "code",
   "execution_count": 3,
   "metadata": {
    "ExecuteTime": {
     "end_time": "2019-06-13T18:43:06.099988Z",
     "start_time": "2019-06-13T18:43:05.275533Z"
    }
   },
   "outputs": [
    {
     "ename": "FileNotFoundError",
     "evalue": "File b'rollingsales_manhattan.csv' does not exist",
     "output_type": "error",
     "traceback": [
      "\u001b[0;31m---------------------------------------------------------------------------\u001b[0m",
      "\u001b[0;31mFileNotFoundError\u001b[0m                         Traceback (most recent call last)",
      "\u001b[0;32m<ipython-input-3-1407c95cd1ba>\u001b[0m in \u001b[0;36m<module>\u001b[0;34m\u001b[0m\n\u001b[0;32m----> 1\u001b[0;31m \u001b[0mdf\u001b[0m \u001b[0;34m=\u001b[0m \u001b[0mpd\u001b[0m\u001b[0;34m.\u001b[0m\u001b[0mread_csv\u001b[0m\u001b[0;34m(\u001b[0m\u001b[0;34m'rollingsales_manhattan.csv'\u001b[0m\u001b[0;34m)\u001b[0m\u001b[0;34m\u001b[0m\u001b[0;34m\u001b[0m\u001b[0m\n\u001b[0m",
      "\u001b[0;32m~/anaconda3/lib/python3.7/site-packages/pandas/io/parsers.py\u001b[0m in \u001b[0;36mparser_f\u001b[0;34m(filepath_or_buffer, sep, delimiter, header, names, index_col, usecols, squeeze, prefix, mangle_dupe_cols, dtype, engine, converters, true_values, false_values, skipinitialspace, skiprows, nrows, na_values, keep_default_na, na_filter, verbose, skip_blank_lines, parse_dates, infer_datetime_format, keep_date_col, date_parser, dayfirst, iterator, chunksize, compression, thousands, decimal, lineterminator, quotechar, quoting, escapechar, comment, encoding, dialect, tupleize_cols, error_bad_lines, warn_bad_lines, skipfooter, doublequote, delim_whitespace, low_memory, memory_map, float_precision)\u001b[0m\n\u001b[1;32m    676\u001b[0m                     skip_blank_lines=skip_blank_lines)\n\u001b[1;32m    677\u001b[0m \u001b[0;34m\u001b[0m\u001b[0m\n\u001b[0;32m--> 678\u001b[0;31m         \u001b[0;32mreturn\u001b[0m \u001b[0m_read\u001b[0m\u001b[0;34m(\u001b[0m\u001b[0mfilepath_or_buffer\u001b[0m\u001b[0;34m,\u001b[0m \u001b[0mkwds\u001b[0m\u001b[0;34m)\u001b[0m\u001b[0;34m\u001b[0m\u001b[0;34m\u001b[0m\u001b[0m\n\u001b[0m\u001b[1;32m    679\u001b[0m \u001b[0;34m\u001b[0m\u001b[0m\n\u001b[1;32m    680\u001b[0m     \u001b[0mparser_f\u001b[0m\u001b[0;34m.\u001b[0m\u001b[0m__name__\u001b[0m \u001b[0;34m=\u001b[0m \u001b[0mname\u001b[0m\u001b[0;34m\u001b[0m\u001b[0;34m\u001b[0m\u001b[0m\n",
      "\u001b[0;32m~/anaconda3/lib/python3.7/site-packages/pandas/io/parsers.py\u001b[0m in \u001b[0;36m_read\u001b[0;34m(filepath_or_buffer, kwds)\u001b[0m\n\u001b[1;32m    438\u001b[0m \u001b[0;34m\u001b[0m\u001b[0m\n\u001b[1;32m    439\u001b[0m     \u001b[0;31m# Create the parser.\u001b[0m\u001b[0;34m\u001b[0m\u001b[0;34m\u001b[0m\u001b[0;34m\u001b[0m\u001b[0m\n\u001b[0;32m--> 440\u001b[0;31m     \u001b[0mparser\u001b[0m \u001b[0;34m=\u001b[0m \u001b[0mTextFileReader\u001b[0m\u001b[0;34m(\u001b[0m\u001b[0mfilepath_or_buffer\u001b[0m\u001b[0;34m,\u001b[0m \u001b[0;34m**\u001b[0m\u001b[0mkwds\u001b[0m\u001b[0;34m)\u001b[0m\u001b[0;34m\u001b[0m\u001b[0;34m\u001b[0m\u001b[0m\n\u001b[0m\u001b[1;32m    441\u001b[0m \u001b[0;34m\u001b[0m\u001b[0m\n\u001b[1;32m    442\u001b[0m     \u001b[0;32mif\u001b[0m \u001b[0mchunksize\u001b[0m \u001b[0;32mor\u001b[0m \u001b[0miterator\u001b[0m\u001b[0;34m:\u001b[0m\u001b[0;34m\u001b[0m\u001b[0;34m\u001b[0m\u001b[0m\n",
      "\u001b[0;32m~/anaconda3/lib/python3.7/site-packages/pandas/io/parsers.py\u001b[0m in \u001b[0;36m__init__\u001b[0;34m(self, f, engine, **kwds)\u001b[0m\n\u001b[1;32m    785\u001b[0m             \u001b[0mself\u001b[0m\u001b[0;34m.\u001b[0m\u001b[0moptions\u001b[0m\u001b[0;34m[\u001b[0m\u001b[0;34m'has_index_names'\u001b[0m\u001b[0;34m]\u001b[0m \u001b[0;34m=\u001b[0m \u001b[0mkwds\u001b[0m\u001b[0;34m[\u001b[0m\u001b[0;34m'has_index_names'\u001b[0m\u001b[0;34m]\u001b[0m\u001b[0;34m\u001b[0m\u001b[0;34m\u001b[0m\u001b[0m\n\u001b[1;32m    786\u001b[0m \u001b[0;34m\u001b[0m\u001b[0m\n\u001b[0;32m--> 787\u001b[0;31m         \u001b[0mself\u001b[0m\u001b[0;34m.\u001b[0m\u001b[0m_make_engine\u001b[0m\u001b[0;34m(\u001b[0m\u001b[0mself\u001b[0m\u001b[0;34m.\u001b[0m\u001b[0mengine\u001b[0m\u001b[0;34m)\u001b[0m\u001b[0;34m\u001b[0m\u001b[0;34m\u001b[0m\u001b[0m\n\u001b[0m\u001b[1;32m    788\u001b[0m \u001b[0;34m\u001b[0m\u001b[0m\n\u001b[1;32m    789\u001b[0m     \u001b[0;32mdef\u001b[0m \u001b[0mclose\u001b[0m\u001b[0;34m(\u001b[0m\u001b[0mself\u001b[0m\u001b[0;34m)\u001b[0m\u001b[0;34m:\u001b[0m\u001b[0;34m\u001b[0m\u001b[0;34m\u001b[0m\u001b[0m\n",
      "\u001b[0;32m~/anaconda3/lib/python3.7/site-packages/pandas/io/parsers.py\u001b[0m in \u001b[0;36m_make_engine\u001b[0;34m(self, engine)\u001b[0m\n\u001b[1;32m   1012\u001b[0m     \u001b[0;32mdef\u001b[0m \u001b[0m_make_engine\u001b[0m\u001b[0;34m(\u001b[0m\u001b[0mself\u001b[0m\u001b[0;34m,\u001b[0m \u001b[0mengine\u001b[0m\u001b[0;34m=\u001b[0m\u001b[0;34m'c'\u001b[0m\u001b[0;34m)\u001b[0m\u001b[0;34m:\u001b[0m\u001b[0;34m\u001b[0m\u001b[0;34m\u001b[0m\u001b[0m\n\u001b[1;32m   1013\u001b[0m         \u001b[0;32mif\u001b[0m \u001b[0mengine\u001b[0m \u001b[0;34m==\u001b[0m \u001b[0;34m'c'\u001b[0m\u001b[0;34m:\u001b[0m\u001b[0;34m\u001b[0m\u001b[0;34m\u001b[0m\u001b[0m\n\u001b[0;32m-> 1014\u001b[0;31m             \u001b[0mself\u001b[0m\u001b[0;34m.\u001b[0m\u001b[0m_engine\u001b[0m \u001b[0;34m=\u001b[0m \u001b[0mCParserWrapper\u001b[0m\u001b[0;34m(\u001b[0m\u001b[0mself\u001b[0m\u001b[0;34m.\u001b[0m\u001b[0mf\u001b[0m\u001b[0;34m,\u001b[0m \u001b[0;34m**\u001b[0m\u001b[0mself\u001b[0m\u001b[0;34m.\u001b[0m\u001b[0moptions\u001b[0m\u001b[0;34m)\u001b[0m\u001b[0;34m\u001b[0m\u001b[0;34m\u001b[0m\u001b[0m\n\u001b[0m\u001b[1;32m   1015\u001b[0m         \u001b[0;32melse\u001b[0m\u001b[0;34m:\u001b[0m\u001b[0;34m\u001b[0m\u001b[0;34m\u001b[0m\u001b[0m\n\u001b[1;32m   1016\u001b[0m             \u001b[0;32mif\u001b[0m \u001b[0mengine\u001b[0m \u001b[0;34m==\u001b[0m \u001b[0;34m'python'\u001b[0m\u001b[0;34m:\u001b[0m\u001b[0;34m\u001b[0m\u001b[0;34m\u001b[0m\u001b[0m\n",
      "\u001b[0;32m~/anaconda3/lib/python3.7/site-packages/pandas/io/parsers.py\u001b[0m in \u001b[0;36m__init__\u001b[0;34m(self, src, **kwds)\u001b[0m\n\u001b[1;32m   1706\u001b[0m         \u001b[0mkwds\u001b[0m\u001b[0;34m[\u001b[0m\u001b[0;34m'usecols'\u001b[0m\u001b[0;34m]\u001b[0m \u001b[0;34m=\u001b[0m \u001b[0mself\u001b[0m\u001b[0;34m.\u001b[0m\u001b[0musecols\u001b[0m\u001b[0;34m\u001b[0m\u001b[0;34m\u001b[0m\u001b[0m\n\u001b[1;32m   1707\u001b[0m \u001b[0;34m\u001b[0m\u001b[0m\n\u001b[0;32m-> 1708\u001b[0;31m         \u001b[0mself\u001b[0m\u001b[0;34m.\u001b[0m\u001b[0m_reader\u001b[0m \u001b[0;34m=\u001b[0m \u001b[0mparsers\u001b[0m\u001b[0;34m.\u001b[0m\u001b[0mTextReader\u001b[0m\u001b[0;34m(\u001b[0m\u001b[0msrc\u001b[0m\u001b[0;34m,\u001b[0m \u001b[0;34m**\u001b[0m\u001b[0mkwds\u001b[0m\u001b[0;34m)\u001b[0m\u001b[0;34m\u001b[0m\u001b[0;34m\u001b[0m\u001b[0m\n\u001b[0m\u001b[1;32m   1709\u001b[0m \u001b[0;34m\u001b[0m\u001b[0m\n\u001b[1;32m   1710\u001b[0m         \u001b[0mpassed_names\u001b[0m \u001b[0;34m=\u001b[0m \u001b[0mself\u001b[0m\u001b[0;34m.\u001b[0m\u001b[0mnames\u001b[0m \u001b[0;32mis\u001b[0m \u001b[0;32mNone\u001b[0m\u001b[0;34m\u001b[0m\u001b[0;34m\u001b[0m\u001b[0m\n",
      "\u001b[0;32mpandas/_libs/parsers.pyx\u001b[0m in \u001b[0;36mpandas._libs.parsers.TextReader.__cinit__\u001b[0;34m()\u001b[0m\n",
      "\u001b[0;32mpandas/_libs/parsers.pyx\u001b[0m in \u001b[0;36mpandas._libs.parsers.TextReader._setup_parser_source\u001b[0;34m()\u001b[0m\n",
      "\u001b[0;31mFileNotFoundError\u001b[0m: File b'rollingsales_manhattan.csv' does not exist"
     ]
    }
   ],
   "source": [
    "df = pd.read_csv('rollingsales_manhattan.csv')"
   ]
  },
  {
   "cell_type": "code",
   "execution_count": null,
   "metadata": {
    "ExecuteTime": {
     "end_time": "2019-06-13T18:43:06.106000Z",
     "start_time": "2019-06-13T18:43:03.490Z"
    }
   },
   "outputs": [],
   "source": [
    "df.columns = [column.strip() for column in df.columns]"
   ]
  },
  {
   "cell_type": "code",
   "execution_count": null,
   "metadata": {
    "ExecuteTime": {
     "end_time": "2019-06-13T18:43:06.108132Z",
     "start_time": "2019-06-13T18:43:03.495Z"
    }
   },
   "outputs": [],
   "source": [
    "df = (df[['NEIGHBORHOOD', 'ZIP CODE', 'BUILDING CLASS CATEGORY', \n",
    "          'LAND SQUARE FEET', 'GROSS SQUARE FEET', 'SALE PRICE']])"
   ]
  },
  {
   "cell_type": "code",
   "execution_count": null,
   "metadata": {
    "ExecuteTime": {
     "end_time": "2019-06-13T18:43:06.111145Z",
     "start_time": "2019-06-13T18:43:03.497Z"
    }
   },
   "outputs": [],
   "source": [
    "# gets rid of all spaces around data\n",
    "df = df.apply(lambda x: x.str.strip() if x.dtype == \"object\" else x)"
   ]
  },
  {
   "cell_type": "code",
   "execution_count": null,
   "metadata": {
    "ExecuteTime": {
     "end_time": "2019-06-13T18:43:06.115200Z",
     "start_time": "2019-06-13T18:43:03.498Z"
    }
   },
   "outputs": [],
   "source": [
    "# gets rid of data with no price\n",
    "df = df[df['SALE PRICE']!='$ -']"
   ]
  },
  {
   "cell_type": "code",
   "execution_count": null,
   "metadata": {
    "ExecuteTime": {
     "end_time": "2019-06-13T18:43:06.117946Z",
     "start_time": "2019-06-13T18:43:03.500Z"
    }
   },
   "outputs": [],
   "source": [
    "# limits it to types of buildings that are applicable to a coffee shop\n",
    "l = ['22 STORE BUILDINGS','30 WAREHOUSES', '46 CONDO STORE BUILDINGS']\n",
    "df = df[df['BUILDING CLASS CATEGORY'].isin(l)]"
   ]
  },
  {
   "cell_type": "code",
   "execution_count": null,
   "metadata": {
    "ExecuteTime": {
     "end_time": "2019-06-13T18:43:06.119915Z",
     "start_time": "2019-06-13T18:43:03.502Z"
    }
   },
   "outputs": [],
   "source": [
    "# if land sqft is available and gross sqft is 0 make land sqft value the gross sqft value\n",
    "df['GROSS SQUARE FEET']=df.apply(lambda row: row['LAND SQUARE FEET'] if row['GROSS SQUARE FEET']=='0' else row['GROSS SQUARE FEET'],axis=1)"
   ]
  },
  {
   "cell_type": "code",
   "execution_count": null,
   "metadata": {
    "ExecuteTime": {
     "end_time": "2019-06-13T18:43:06.121892Z",
     "start_time": "2019-06-13T18:43:03.504Z"
    }
   },
   "outputs": [],
   "source": [
    "# drop land sqft\n",
    "df=df.drop(columns='LAND SQUARE FEET')"
   ]
  },
  {
   "cell_type": "code",
   "execution_count": null,
   "metadata": {
    "ExecuteTime": {
     "end_time": "2019-06-13T18:43:06.123532Z",
     "start_time": "2019-06-13T18:43:03.506Z"
    }
   },
   "outputs": [],
   "source": [
    "# make sale price an int so it is operable\n",
    "df['SALE PRICE'] = [int(i.replace(',','').replace('$','')) for i in df['SALE PRICE']]"
   ]
  },
  {
   "cell_type": "code",
   "execution_count": null,
   "metadata": {
    "ExecuteTime": {
     "end_time": "2019-06-13T18:43:06.127539Z",
     "start_time": "2019-06-13T18:43:03.510Z"
    }
   },
   "outputs": [],
   "source": [
    "# make gross sqft an int so its operable\n",
    "df['GROSS SQUARE FEET'] = [int(i.replace(',','')) for i in df['GROSS SQUARE FEET']]"
   ]
  },
  {
   "cell_type": "code",
   "execution_count": null,
   "metadata": {
    "ExecuteTime": {
     "end_time": "2019-06-13T18:43:06.129697Z",
     "start_time": "2019-06-13T18:43:03.513Z"
    }
   },
   "outputs": [],
   "source": [
    "# drops rows where gross sqft = 0\n",
    "df=df[df['GROSS SQUARE FEET']!= 0]"
   ]
  },
  {
   "cell_type": "code",
   "execution_count": null,
   "metadata": {
    "ExecuteTime": {
     "end_time": "2019-06-13T18:43:06.132708Z",
     "start_time": "2019-06-13T18:43:03.518Z"
    }
   },
   "outputs": [],
   "source": [
    "# creates a new column that is price/sqft\n",
    "df['PpSQFT'] = df['SALE PRICE']/df['GROSS SQUARE FEET']"
   ]
  },
  {
   "cell_type": "code",
   "execution_count": null,
   "metadata": {
    "ExecuteTime": {
     "end_time": "2019-06-13T18:43:06.137668Z",
     "start_time": "2019-06-13T18:43:03.520Z"
    }
   },
   "outputs": [],
   "source": [
    "# adds a new column that is the z score of price/sqft\n",
    "df['PSQZSCORE'] = df[['PpSQFT']].apply(zscore).abs()"
   ]
  },
  {
   "cell_type": "code",
   "execution_count": null,
   "metadata": {
    "ExecuteTime": {
     "end_time": "2019-06-13T18:43:06.140334Z",
     "start_time": "2019-06-13T18:43:03.525Z"
    }
   },
   "outputs": [],
   "source": [
    "# filter the outliers\n",
    "fdf = df[df['PSQZSCORE']<3]"
   ]
  },
  {
   "cell_type": "code",
   "execution_count": null,
   "metadata": {
    "ExecuteTime": {
     "end_time": "2019-06-13T18:43:06.143891Z",
     "start_time": "2019-06-13T18:43:03.531Z"
    }
   },
   "outputs": [],
   "source": [
    "fdf"
   ]
  },
  {
   "cell_type": "code",
   "execution_count": null,
   "metadata": {
    "ExecuteTime": {
     "end_time": "2019-06-13T18:43:06.145765Z",
     "start_time": "2019-06-13T18:43:03.534Z"
    }
   },
   "outputs": [],
   "source": [
    "# created a dictionary to line up the station with the neighborhood\n",
    "sn = {'GRD CNTRL-42 ST':'MIDTOWN EAST', \n",
    "         '47-50 STS ROCK':'MIDTOWN EAST', \n",
    "         '34 ST-HERALD SQ':'CHELSEA', \n",
    "         'TIMES SQ-42 ST':'MIDTOWN WEST', \n",
    "         'FULTON ST':'FINANCIAL', \n",
    "         '23 ST':'GREENWICH VILLAGE-CENTRAL',  \n",
    "         '14 ST-UNION SQ':'GRAMERCY', \n",
    "         '34 ST-PENN STA':'MIDTOWN WEST', \n",
    "         'CANAL ST':'SOHO', \n",
    "         '59 ST COLUMBUS':'MIDTOWN WEST'}"
   ]
  },
  {
   "cell_type": "code",
   "execution_count": null,
   "metadata": {
    "ExecuteTime": {
     "end_time": "2019-06-13T18:43:06.148011Z",
     "start_time": "2019-06-13T18:43:03.536Z"
    }
   },
   "outputs": [],
   "source": [
    "# made a pointer\n",
    "newdf = pd.DataFrame(fdf.groupby(['NEIGHBORHOOD']).PpSQFT.mean())\n",
    "newdf"
   ]
  },
  {
   "cell_type": "code",
   "execution_count": null,
   "metadata": {
    "ExecuteTime": {
     "end_time": "2019-06-13T18:43:06.149814Z",
     "start_time": "2019-06-13T18:43:03.539Z"
    }
   },
   "outputs": [],
   "source": [
    "# added external data\n",
    "tsdf = pd.DataFrame({'STATION': ['GRD CNTRL-42 ST','47-50 STS ROCK',\n",
    "                                 '34 ST-HERALD SQ','TIMES SQ-42 ST', \n",
    "                                 'FULTON ST', '14 ST-UNION SQ',\n",
    "                                 '23 ST', '34 ST-PENN STA',\n",
    "                                 'CANAL ST', '59 ST COLUMBUS'\n",
    "                                ],\n",
    "                   'Exits': [39564.371, 28093.571, 27960.800, 24942.800,\n",
    "                              24614.714, 23434.824, 23413.543, 19154.229,\n",
    "                              17876.059, 17364.000\n",
    "                   ]})"
   ]
  },
  {
   "cell_type": "code",
   "execution_count": null,
   "metadata": {
    "ExecuteTime": {
     "end_time": "2019-06-13T18:43:06.151631Z",
     "start_time": "2019-06-13T18:43:03.540Z"
    }
   },
   "outputs": [],
   "source": [
    "# adding the neighborhood column by mapping the dictionary \n",
    "tsdf['NEIGHBORHOOD'] = tsdf['STATION'].map(sn)"
   ]
  },
  {
   "cell_type": "code",
   "execution_count": null,
   "metadata": {
    "ExecuteTime": {
     "end_time": "2019-06-13T18:43:06.153246Z",
     "start_time": "2019-06-13T18:43:03.543Z"
    }
   },
   "outputs": [],
   "source": [
    "# combined the two df\n",
    "tsdf = tsdf.merge(newdf, on='NEIGHBORHOOD')"
   ]
  },
  {
   "cell_type": "code",
   "execution_count": null,
   "metadata": {
    "ExecuteTime": {
     "end_time": "2019-06-13T18:43:06.155463Z",
     "start_time": "2019-06-13T18:43:03.546Z"
    }
   },
   "outputs": [],
   "source": [
    "# created exits per Price per Sqft\n",
    "tsdf['EpPpS'] = tsdf['Exits']/tsdf['PpSQFT']"
   ]
  },
  {
   "cell_type": "code",
   "execution_count": null,
   "metadata": {
    "ExecuteTime": {
     "end_time": "2019-06-13T18:43:06.157920Z",
     "start_time": "2019-06-13T18:43:03.548Z"
    }
   },
   "outputs": [],
   "source": [
    "tsdf"
   ]
  },
  {
   "cell_type": "code",
   "execution_count": null,
   "metadata": {
    "ExecuteTime": {
     "end_time": "2019-06-13T18:43:06.160832Z",
     "start_time": "2019-06-13T18:43:03.550Z"
    }
   },
   "outputs": [],
   "source": [
    "sns.barplot(x='EpPpS',y = 'STATION',data=tsdf, \n",
    "            order=['GRD CNTRL-42 ST','47-50 STS ROCK',\n",
    "                   '34 ST-HERALD SQ', 'TIMES SQ-42 ST', 'FULTON ST', \n",
    "                   '23 ST', '14 ST-UNION SQ', '34 ST-PENN STA', \n",
    "                   'CANAL ST', '59 ST COLUMBUS'])"
   ]
  },
  {
   "cell_type": "code",
   "execution_count": null,
   "metadata": {
    "ExecuteTime": {
     "end_time": "2019-06-13T18:43:06.164267Z",
     "start_time": "2019-06-13T18:43:03.552Z"
    }
   },
   "outputs": [],
   "source": [
    "sns.barplot(x='PpSQFT',y = 'STATION',data=tsdf, \n",
    "            order=['GRD CNTRL-42 ST','47-50 STS ROCK','34 ST-HERALD SQ', \n",
    "                   'TIMES SQ-42 ST', 'FULTON ST', '23 ST', \n",
    "                   '14 ST-UNION SQ', '34 ST-PENN STA', 'CANAL ST', \n",
    "                   '59 ST COLUMBUS'])"
   ]
  },
  {
   "cell_type": "code",
   "execution_count": null,
   "metadata": {},
   "outputs": [],
   "source": []
  }
 ],
 "metadata": {
  "kernelspec": {
   "display_name": "Python 3",
   "language": "python",
   "name": "python3"
  },
  "language_info": {
   "codemirror_mode": {
    "name": "ipython",
    "version": 3
   },
   "file_extension": ".py",
   "mimetype": "text/x-python",
   "name": "python",
   "nbconvert_exporter": "python",
   "pygments_lexer": "ipython3",
   "version": "3.7.1"
  }
 },
 "nbformat": 4,
 "nbformat_minor": 2
}
